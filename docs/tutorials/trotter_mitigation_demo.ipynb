{
 "cells": [
  {
   "cell_type": "markdown",
   "id": "9670d34b-bda4-4a06-8b37-ecb472dc020a",
   "metadata": {
    "tags": []
   },
   "source": [
    "# Trotter Simulation Mitigation Demo\n",
    "\n",
    "### TUT20: IEEE Quantum Week\n",
    "#### September 21, 2023\n",
    "#### Christopher J Wood and Mariana Bernagozzi, IBM Quantum"
   ]
  },
  {
   "cell_type": "markdown",
   "id": "c0857344-eb4f-4255-bf9a-38160af60454",
   "metadata": {},
   "source": [
    "This notebook demonstrates running a basic Trotter quantum simulation of a 1D Ising Hamiltonian on 4-qubits using the Qiskit Runtime Primitives with various error suppression and mitigation strategies\n",
    "\n",
    "\n",
    "*NOTE: This notebook requires using the `experimental` branch of the `qiskit-ibm-runtime` package to enable the preview of advanced mitigation options*\n"
   ]
  },
  {
   "cell_type": "markdown",
   "id": "2e584e3a-1ce1-413d-a5be-646b608ec852",
   "metadata": {
    "tags": []
   },
   "source": [
    "## Experiment Setup"
   ]
  },
  {
   "cell_type": "markdown",
   "id": "8765ad0a-f2c8-4ae4-9c6e-d4fa7a4734fa",
   "metadata": {
    "tags": []
   },
   "source": [
    "### Load Runtime Service\n",
    "\n",
    "First we initialize the Qiskit runtime service. This notebook assumes you have already saved your account API token so that the service can be initialized from saved credentials.\n",
    "\n",
    "We also import the `Estimator` primitive, which is the primitive we will be using to run our experiments, and the `Options` class which will be used to configure custom settings of the `Estimator` to test various combinations of error supression and mitigation techniques"
   ]
  },
  {
   "cell_type": "code",
   "execution_count": null,
   "id": "28419a9d-f188-4b8a-ba61-f2b1f16edc3c",
   "metadata": {},
   "outputs": [],
   "source": [
    "from qiskit_ibm_runtime import QiskitRuntimeService, Estimator, Options\n",
    "\n",
    "# Initialize service\n",
    "service = QiskitRuntimeService(channel=\"ibm_quantum\", instance=\"ibm-q-internal/deployed/default\")\n",
    "\n",
    "# Choose a backend to run on (you can change this to another backend that is available)\n",
    "backend = service.get_backend(\"ibm_canberra\")"
   ]
  },
  {
   "cell_type": "markdown",
   "id": "419482ea-f58f-4a0c-81af-85fa149a590f",
   "metadata": {
    "tags": []
   },
   "source": [
    "### Generate Trotter Circuits\n",
    "\n",
    "For our experiment we will consider a basic example of a Trotter simulation of a Ising Hamiltonian\n",
    "\n",
    "$$\n",
    "H = \\sum_i a X_i + \\sum_{i, j} b Z_i \\otimes Z_j\n",
    "$$\n",
    "\n",
    "When converting this to a Trotterized simulation circuit, it can be composed in terms of trotter evolution layers given by"
   ]
  },
  {
   "cell_type": "code",
   "execution_count": null,
   "id": "a610e482-d058-4ebc-af67-9dbb6f904833",
   "metadata": {
    "tags": []
   },
   "outputs": [],
   "source": [
    "from pprint import pprint\n",
    "from qiskit import QuantumCircuit\n",
    "from qiskit.circuit import Parameter\n",
    "import qiskit.quantum_info as qi\n",
    "\n",
    "# Specify a 1D chain of device qubits to use\n",
    "initial_layout = [2, 3, 5, 8]\n",
    "num_qubits = len(initial_layout)\n",
    "\n",
    "# Parameterized Trotter layer\n",
    "par_rx = Parameter(\"a\")\n",
    "par_rzz = Parameter(\"b\")\n",
    "trotter_layer = QuantumCircuit(num_qubits)\n",
    "trotter_layer.rx(par_rx, range(num_qubits))\n",
    "for i in range(num_qubits // 2):\n",
    "    trotter_layer.rzz(par_rzz, 2 * i, 1 + 2 * i)\n",
    "for i in range(1, num_qubits // 2 + bool(num_qubits % 2)):\n",
    "    trotter_layer.rzz(par_rzz, 2 * i - 1, 2 * i)\n",
    "\n",
    "# Run for 1 to 5 steps\n",
    "trotter_steps = [1, 2, 3, 4, 5]\n",
    "trotter_circuit_list = []\n",
    "for i in trotter_steps:\n",
    "    trotter_circuit = QuantumCircuit(num_qubits)\n",
    "    for _ in range(i):\n",
    "        trotter_circuit = trotter_circuit.compose(trotter_layer)\n",
    "    trotter_circuit_list.append(trotter_circuit)\n",
    "    print(f'Trotter circuit with {i} Trotter steps')\n",
    "    display(trotter_circuit.draw(fold=-1))"
   ]
  },
  {
   "cell_type": "markdown",
   "id": "72ffece9-3db0-4f18-aa0b-125bd3f736d7",
   "metadata": {},
   "source": [
    "### Specify Observables and Parameters\n",
    "\n",
    "For this simulation we measure the expectation value of an observable given by the average of all 1-qubit Z observables\n",
    "\n",
    "$$\n",
    "O = \\sum_i Z_i / N\n",
    "$$\n",
    "\n",
    "and we choose Hamiltonain parameter values of $a = 0.1, b = -0.2$.\n",
    "\n",
    "For the `Estimator.run` method we construct lists of the same length as the number of Trotter steps we wish to simulate"
   ]
  },
  {
   "cell_type": "code",
   "execution_count": null,
   "id": "e8d73d61-83ba-4834-b1ad-3dc7100336d8",
   "metadata": {
    "tags": []
   },
   "outputs": [],
   "source": [
    "import numpy as np\n",
    "import qiskit.quantum_info as qi\n",
    "\n",
    "# Hamiltonian parameters\n",
    "params = [0.1, -0.2]\n",
    "params_list = [params] * len(trotter_circuit_list)\n",
    "\n",
    "# Observable\n",
    "Zs = np.eye(num_qubits, dtype=bool)\n",
    "Xs = np.zeros((num_qubits, num_qubits), dtype=bool)\n",
    "obs = qi.SparsePauliOp(qi.PauliList.from_symplectic(Zs, Xs), 1/num_qubits)\n",
    "obs_list = [obs]*len(trotter_circuit_list)"
   ]
  },
  {
   "cell_type": "markdown",
   "id": "c7c60525-fe09-4af3-bef9-0d22737fb629",
   "metadata": {
    "tags": []
   },
   "source": [
    "## Run Estimator Jobs\n",
    "\n",
    "Now that we have constructed the circuits for the number of Trotter steps and observables we wish to measure we need to configure our `Estimator` primitives and run our jobs. We will run on "
   ]
  },
  {
   "cell_type": "code",
   "execution_count": null,
   "id": "f2adba95-1410-4032-8fce-9723dc59b643",
   "metadata": {
    "tags": []
   },
   "outputs": [],
   "source": [
    "# If True run jobs, this can be set to false to avoid re-running jobs when re-running the notebok\n",
    "# If you are loading saved jobs\n",
    "run_sim_jobs = True\n",
    "run_device_jobs = False\n",
    "\n",
    "# Store all jobs\n",
    "if run_sim_jobs or run_device_jobs:\n",
    "    jobs = {}\n",
    "    jobs_ids = {}"
   ]
  },
  {
   "cell_type": "markdown",
   "id": "390a4298-fe0f-464a-8c1b-e3197224e755",
   "metadata": {
    "tags": []
   },
   "source": [
    "### Simulation Jobs\n",
    "\n",
    "Before running on a real device we will run on a simulator, under a variety of different noise models, to explore how various mitigation techniques perform for different types of noise\n",
    "\n",
    "We consider several noise models based on the Qiskit Aer device noise model which includes classical measurement readout error, thermal relaxation gate error, and depolarizing gate error. We also consider various combinations of a subset of these noise processes. Note this is not expected to be a particularly accurate model of a real device since it include no coherent errors. To explore the effect of coherent errors we also consider a model with a coherent ZZ rotation error applied after each CX gate"
   ]
  },
  {
   "cell_type": "markdown",
   "id": "59954576-3e59-4618-b71b-17466d2980bd",
   "metadata": {},
   "source": [
    "#### Noise Models"
   ]
  },
  {
   "cell_type": "code",
   "execution_count": null,
   "id": "e045eda7-ecfe-41df-a6d9-e294d14abaf1",
   "metadata": {
    "tags": []
   },
   "outputs": [],
   "source": [
    "import numpy as np\n",
    "import scipy.linalg as la\n",
    "import qiskit.quantum_info as qi\n",
    "from qiskit_aer.noise import NoiseModel, coherent_unitary_error\n",
    "\n",
    "backend_simulator = service.get_backend(\"ibmq_qasm_simulator\")\n",
    "\n",
    "# Noise model with measure noise, depolarizing and thermal relaxation gate noise\n",
    "noise_model_rodept1 = NoiseModel.from_backend(backend())\n",
    "\n",
    "# Noise model without measure noise, with depolarizing and thermal relaxation gate noise\n",
    "noise_model_dept1 = NoiseModel.from_backend(backend(), readout_error=False, gate_error=True, thermal_relaxation=True)\n",
    "\n",
    "# Noise model with measure noise and with depolarizing gate noise\n",
    "noise_model_rodep = NoiseModel.from_backend(backend(), readout_error=True, gate_error=True, thermal_relaxation=False)\n",
    "\n",
    "# Noise model with only measure noise\n",
    "noise_model_ro = NoiseModel.from_backend(backend(), readout_error=True, gate_error=False, thermal_relaxation=False)\n",
    "\n",
    "# Noise model with only depolarizing gate noise\n",
    "noise_model_dep = NoiseModel.from_backend(backend(), readout_error=False, gate_error=True, thermal_relaxation=False)\n",
    "\n",
    "# Noise model with only coherent CX gate noise\n",
    "noise_model_coh = NoiseModel.from_backend(backend(), readout_error=False, gate_error=False, thermal_relaxation=False)\n",
    "\n",
    "# Noise model with measure noise and coherent CX gate noise\n",
    "noise_model_rocoh = NoiseModel.from_backend(backend(), readout_error=True, gate_error=False, thermal_relaxation=False)\n",
    "\n",
    "# Construct the coherent CX noise model errors based on the process fidelity so that they have the\n",
    "# same process fidelity as the depolarizing errors of the depolarizing noise model\n",
    "for qubits, error in noise_model_dep._local_quantum_errors['cx'].items():\n",
    "    cos2 = qi.process_fidelity(error)\n",
    "    theta = np.arccos(np.sqrt(cos2))\n",
    "    cx_err = coherent_unitary_error(la.expm(-1j * 0.05 * qi.Operator.from_label(\"ZZ\")))\n",
    "    noise_model_coh.add_quantum_error(cx_err, \"cx\", qubits)\n",
    "    noise_model_rocoh.add_quantum_error(cx_err, \"cx\", qubits)\n",
    "    \n",
    "# Labels for noise models\n",
    "noise_labels = [\n",
    "    \"Ideal\",\n",
    "    \"Measure + Depol + Relax\",\n",
    "    \"Depol + Relax\",\n",
    "    \"Measure + Depol\",\n",
    "    \"Measure\",\n",
    "    \"Depol\",\n",
    "    \"Measure + Coherent\",\n",
    "    \"Coherent\",\n",
    "]\n",
    "\n",
    "# List of labeled noise models\n",
    "noise_models = [\n",
    "    None,\n",
    "    noise_model_rodept1,\n",
    "    noise_model_dept1,\n",
    "    noise_model_rodep,\n",
    "    noise_model_ro,\n",
    "    noise_model_dep,\n",
    "    noise_model_rocoh,\n",
    "    noise_model_coh,\n",
    "]"
   ]
  },
  {
   "cell_type": "markdown",
   "id": "b9717072-204b-4ea3-b0c1-a1cc93a8e343",
   "metadata": {},
   "source": [
    "#### Unmitigated\n",
    "\n",
    "For unmitigated options we run the `Estimator` at `resilience_level=0`, and include several transpiler and simulator options to customize running with the noise model"
   ]
  },
  {
   "cell_type": "code",
   "execution_count": null,
   "id": "662c7ffe-9305-41c5-a1ac-4c28c1d81f88",
   "metadata": {
    "tags": []
   },
   "outputs": [],
   "source": [
    "# Label for option configuration\n",
    "label_mit = \"Unmitigated\"\n",
    "\n",
    "if label_mit not in jobs:\n",
    "    jobs[label_mit] = {}\n",
    "\n",
    "if run_sim_jobs:\n",
    "    # Configure estimator options\n",
    "    options = Options()\n",
    "    options.resilience_level = 0\n",
    "    options.execution.shots = 4 ** 7\n",
    "    options.transpilation.initial_layout = initial_layout\n",
    "    options.transpilation.seed_transpiler = 1337\n",
    "    options.simulator.basis_gates = backend.configuration().basis_gates\n",
    "    options.simulator.coupling_map = backend.configuration().coupling_map\n",
    "    options.simulator.seed_simulator = 1337\n",
    "\n",
    "    # Run jobs\n",
    "    for label, noise_model in zip(noise_labels, noise_models):\n",
    "        options.simulator.noise_model = noise_model\n",
    "        estimator = Estimator(backend_simulator, options=options)\n",
    "        job = estimator.run(trotter_circuit_list, obs_list, params_list)\n",
    "        jobs[label_mit][label] = job\n",
    "        print(job.job_id())\n",
    "    jobs_ids[label_mit] = {label: job.job_id() for label, job in jobs[label_mit].items()}"
   ]
  },
  {
   "cell_type": "markdown",
   "id": "65075efc-0fc6-4eb8-9c80-45fe5aa974db",
   "metadata": {},
   "source": [
    "#### Gate Twirling\n",
    "\n",
    "Next we turn on gate Pauli twirling while running with otherwise unmitigated `resilience_level=0` options."
   ]
  },
  {
   "cell_type": "code",
   "execution_count": null,
   "id": "256db3a3-4378-421f-ae42-a019445a6517",
   "metadata": {
    "tags": []
   },
   "outputs": [],
   "source": [
    "# Label for option configuration\n",
    "label_mit = \"Gate Twirling\"\n",
    "\n",
    "if label_mit not in jobs:\n",
    "    jobs[label_mit] = {}\n",
    "\n",
    "if run_sim_jobs:    \n",
    "    # Configure estimator options\n",
    "    options = Options()\n",
    "    options.resilience_level = 0\n",
    "    options.twirling.gates = True\n",
    "    options.execution.shots = 4 ** 7\n",
    "    options.transpilation.initial_layout = initial_layout\n",
    "    options.transpilation.seed_transpiler = 1337\n",
    "    options.simulator.basis_gates = backend.configuration().basis_gates\n",
    "    options.simulator.coupling_map = backend.configuration().coupling_map\n",
    "    options.simulator.seed_simulator = 1337\n",
    "\n",
    "    for label, noise_model in zip(noise_labels, noise_models):\n",
    "        options.simulator.noise_model = noise_model\n",
    "        estimator = Estimator(backend_simulator, options=options)\n",
    "        job = estimator.run(trotter_circuit_list, obs_list, params_list)\n",
    "        jobs[label_mit][label] = job\n",
    "        print(job.job_id())\n",
    "    jobs_ids[label_mit] = {label: job.job_id() for label, job in jobs[label_mit].items()}"
   ]
  },
  {
   "cell_type": "markdown",
   "id": "d8a4af3d-52c3-4e55-b0e4-7e96e7c5660a",
   "metadata": {},
   "source": [
    "#### Twirled Measure Error eXtinction (TREX)\n",
    "\n",
    "For the first mitigation technique we use `resilience_level=1` which enabled twirled measure error mitigation"
   ]
  },
  {
   "cell_type": "code",
   "execution_count": null,
   "id": "bf024177-ad40-4cdf-9e64-1a267526a95f",
   "metadata": {
    "tags": []
   },
   "outputs": [],
   "source": [
    "# Label for option configuration\n",
    "label_mit = \"TREX wo Gate Twirling\"\n",
    "\n",
    "if label_mit not in jobs:\n",
    "    jobs[label_mit] = {}\n",
    "\n",
    "if run_sim_jobs:    \n",
    "    # Configure estimator options\n",
    "    options = Options()\n",
    "    options.resilience_level = 1\n",
    "    options.execution.shots = 4 ** 7\n",
    "    options.transpilation.initial_layout = initial_layout\n",
    "    options.transpilation.seed_transpiler = 1337\n",
    "    options.simulator.basis_gates = backend.configuration().basis_gates\n",
    "    options.simulator.coupling_map = backend.configuration().coupling_map\n",
    "    options.simulator.seed_simulator = 1337\n",
    "\n",
    "    for label, noise_model in zip(noise_labels, noise_models):\n",
    "        options.simulator.noise_model = noise_model\n",
    "        estimator = Estimator(backend_simulator, options=options)\n",
    "        job = estimator.run(trotter_circuit_list, obs_list, params_list)\n",
    "        jobs[label_mit][label] = job\n",
    "        print(job.job_id())\n",
    "    jobs_ids[label_mit] = {label: job.job_id() for label, job in jobs[label_mit].items()}"
   ]
  },
  {
   "cell_type": "markdown",
   "id": "195d6867-c451-4fd8-9c2f-959494942271",
   "metadata": {},
   "source": [
    "#### Twirled Readout error mitigation w/ gate twirling\n",
    "\n",
    "Next we also enable gate Pauli twirling with TREX mitigation"
   ]
  },
  {
   "cell_type": "code",
   "execution_count": null,
   "id": "8913524e-6658-4dbd-b730-984cbedb8a90",
   "metadata": {
    "tags": []
   },
   "outputs": [],
   "source": [
    "# Label for option configuration\n",
    "label_mit = \"TREX w Gate Twirling\"\n",
    "\n",
    "if label_mit not in jobs:\n",
    "    jobs[label_mit] = {}\n",
    "\n",
    "if run_sim_jobs:\n",
    "    # Configure estimator options\n",
    "    options = Options()\n",
    "    options.resilience_level = 1\n",
    "    options.twirling.gates = True\n",
    "    options.execution.shots = 4 ** 7\n",
    "    options.transpilation.initial_layout = initial_layout\n",
    "    options.transpilation.seed_transpiler = 1337\n",
    "    options.simulator.basis_gates = backend.configuration().basis_gates\n",
    "    options.simulator.coupling_map = backend.configuration().coupling_map\n",
    "    options.simulator.seed_simulator = 1337\n",
    "\n",
    "    for label, noise_model in zip(noise_labels, noise_models):\n",
    "        options.simulator.noise_model = noise_model\n",
    "        estimator = Estimator(backend_simulator, options=options)\n",
    "        job = estimator.run(trotter_circuit_list, obs_list, params_list)\n",
    "        jobs[label_mit][label] = job\n",
    "        print(job.job_id())\n",
    "    jobs_ids[label_mit] = {label: job.job_id() for label, job in jobs[label_mit].items()}"
   ]
  },
  {
   "cell_type": "markdown",
   "id": "8241021d-f622-480e-88e3-4a4054b7bf65",
   "metadata": {},
   "source": [
    "#### Zero-Noise Extrapolation (ZNE) w/ trex, w/ gate twirl\n",
    "\n",
    "Next we run using the default `resilience_level=2` mitigation settings which enables ZNE, TREX, and gate twirling"
   ]
  },
  {
   "cell_type": "code",
   "execution_count": null,
   "id": "ab3fc74b-6c9f-4782-9b72-4c0770ee0cc1",
   "metadata": {
    "tags": []
   },
   "outputs": [],
   "source": [
    "# Label for option configuration\n",
    "label_mit = \"ZNE w TREX, Gate Twirling\"\n",
    "\n",
    "if label_mit not in jobs:\n",
    "    jobs[label_mit] = {}\n",
    "\n",
    "if run_sim_jobs:\n",
    "    # Configure estimator options\n",
    "    options = Options()\n",
    "    options.resilience_level = 2\n",
    "    options.execution.shots = 4 ** 7\n",
    "    options.transpilation.initial_layout = initial_layout\n",
    "    options.transpilation.seed_transpiler = 1337\n",
    "    options.simulator.basis_gates = backend.configuration().basis_gates\n",
    "    options.simulator.coupling_map = backend.configuration().coupling_map\n",
    "    options.simulator.seed_simulator = 1337\n",
    "\n",
    "    for label, noise_model in zip(noise_labels, noise_models):\n",
    "        options.simulator.noise_model = noise_model\n",
    "        estimator = Estimator(backend_simulator, options=options)\n",
    "        job = estimator.run(trotter_circuit_list, obs_list, params_list)\n",
    "        jobs[label_mit][label] = job\n",
    "        print(job.job_id())\n",
    "    jobs_ids[label_mit] = {label: job.job_id() for label, job in jobs[label_mit].items()}"
   ]
  },
  {
   "cell_type": "markdown",
   "id": "d0964413-f2c8-4175-b1f2-f3d8d53431b7",
   "metadata": {},
   "source": [
    "#### ZNE w/ trex, wo/ gate twirl\n",
    "\n",
    "To explore how TREX and Pauli twirling effect ZNE, we also run with gate twirling explicitly disabled"
   ]
  },
  {
   "cell_type": "code",
   "execution_count": null,
   "id": "c5775d44-63b8-4119-aa4c-13dc9c4ddd67",
   "metadata": {
    "tags": []
   },
   "outputs": [],
   "source": [
    "# Label for option configuration\n",
    "label_mit = \"ZNE w TREX wo Gate Twirling\"\n",
    "\n",
    "if label_mit not in jobs:\n",
    "    jobs[label_mit] = {}\n",
    "\n",
    "if run_sim_jobs:\n",
    "    # Configure estimator options\n",
    "    options = Options()\n",
    "    options.resilience_level = 2\n",
    "    options.execution.shots = 4 ** 7\n",
    "    options.twirling.gates = False\n",
    "    options.transpilation.initial_layout = initial_layout\n",
    "    options.transpilation.seed_transpiler = 1337\n",
    "    options.simulator.basis_gates = backend.configuration().basis_gates\n",
    "    options.simulator.coupling_map = backend.configuration().coupling_map\n",
    "    options.simulator.seed_simulator = 1337\n",
    "\n",
    "    for label, noise_model in zip(noise_labels, noise_models):\n",
    "        options.simulator.noise_model = noise_model\n",
    "        estimator = Estimator(backend_simulator, options=options)\n",
    "        job = estimator.run(trotter_circuit_list, obs_list, params_list)\n",
    "        jobs[label_mit][label] = job\n",
    "        print(job.job_id())\n",
    "    jobs_ids[label_mit] = {label: job.job_id() for label, job in jobs[label_mit].items()}"
   ]
  },
  {
   "cell_type": "markdown",
   "id": "969b88e8-e83c-4ab9-82a2-1b1b3a4e1553",
   "metadata": {},
   "source": [
    "#### ZNE wo/ trex, wo/ gate twirl\n",
    "\n",
    "We also run ZNE with both gate Pauli twirling and TREX measure mitigation disabled"
   ]
  },
  {
   "cell_type": "code",
   "execution_count": null,
   "id": "55058255-d62f-41ab-aac2-000c855e475f",
   "metadata": {
    "tags": []
   },
   "outputs": [],
   "source": [
    "# Label for option configuration\n",
    "label_mit = \"ZNE wo TREX, Gate Twirling\"\n",
    "\n",
    "if label_mit not in jobs:\n",
    "    jobs[label_mit] = {}\n",
    "\n",
    "if run_sim_jobs:\n",
    "    # Configure estimator options\n",
    "    options = Options()\n",
    "    options.resilience_level = 2\n",
    "    options.execution.shots = 4 ** 7\n",
    "    options.twirling.gates = False\n",
    "    options.twirling.measure = False\n",
    "    options.resilience.measure_noise_mitigation = False\n",
    "    options.transpilation.initial_layout = initial_layout\n",
    "    options.transpilation.seed_transpiler = 1337\n",
    "    options.simulator.basis_gates = backend.configuration().basis_gates\n",
    "    options.simulator.coupling_map = backend.configuration().coupling_map\n",
    "    options.simulator.seed_simulator = 1337\n",
    "\n",
    "    for label, noise_model in zip(noise_labels, noise_models):\n",
    "        options.simulator.noise_model = noise_model\n",
    "        estimator = Estimator(backend_simulator, options=options)\n",
    "        job = estimator.run(trotter_circuit_list, obs_list, params_list)\n",
    "        jobs[label_mit][label] = job\n",
    "        print(job.job_id())\n",
    "    jobs_ids[label_mit] = {label: job.job_id() for label, job in jobs[label_mit].items()}"
   ]
  },
  {
   "cell_type": "markdown",
   "id": "810da79a-7a2a-43c7-b23b-e477c712a43b",
   "metadata": {},
   "source": [
    "#### Probabilistic Error Cancellation (PEC)\n",
    "\n",
    "Finally we run with `resilience_level=3` which enabled PEC"
   ]
  },
  {
   "cell_type": "code",
   "execution_count": null,
   "id": "ebe2df61-bc98-4ea8-8b69-7d04552aafce",
   "metadata": {
    "tags": []
   },
   "outputs": [],
   "source": [
    "# Label for option configuration\n",
    "label_mit = \"PEC\"\n",
    "\n",
    "if label_mit not in jobs:\n",
    "    jobs[label_mit] = {}\n",
    "\n",
    "if run_sim_jobs:\n",
    "    # Configure estimator options\n",
    "    options = Options()\n",
    "    options.resilience_level = 3\n",
    "    options.execution.shots = 4 ** 7\n",
    "    options.transpilation.initial_layout = initial_layout\n",
    "    options.transpilation.seed_transpiler = 1337\n",
    "    options.simulator.basis_gates = backend.configuration().basis_gates\n",
    "    options.simulator.coupling_map = backend.configuration().coupling_map\n",
    "    options.simulator.seed_simulator = 1337\n",
    "\n",
    "    for label, noise_model in zip(noise_labels, noise_models):\n",
    "        options.simulator.noise_model = noise_model\n",
    "        estimator = Estimator(backend_simulator, options=options)\n",
    "        job = estimator.run(trotter_circuit_list, obs_list, params_list)\n",
    "        jobs[label_mit][label] = job\n",
    "        print(job.job_id())\n",
    "    jobs_ids[label_mit] = {label: job.job_id() for label, job in jobs[label_mit].items()}"
   ]
  },
  {
   "cell_type": "markdown",
   "id": "7d590e42-086c-4232-8a8b-544c5b9eaea0",
   "metadata": {
    "tags": []
   },
   "source": [
    "### Real Device Jobs\n",
    "\n",
    "Now that we have run jobs on a simulator we also run them on the real device, using the same mitigation and supression configurations as the previous examples"
   ]
  },
  {
   "cell_type": "markdown",
   "id": "e7bf6568-2fad-4dc5-83bf-436f110f59fc",
   "metadata": {},
   "source": [
    "#### Unmitigated"
   ]
  },
  {
   "cell_type": "code",
   "execution_count": null,
   "id": "da94dc8e-bc68-4f78-817b-7a13a2d52512",
   "metadata": {
    "tags": []
   },
   "outputs": [],
   "source": [
    "# Label for option configuration\n",
    "label_mit = \"Unmitigated\"\n",
    "label = \"Real Device\"\n",
    "\n",
    "if label_mit not in jobs:\n",
    "    jobs[label_mit] = {}\n",
    "\n",
    "if run_device_jobs:\n",
    "    \n",
    "    # Configure estimator options\n",
    "    options = Options()\n",
    "    options.resilience_level = 0\n",
    "    options.execution.shots = 4 ** 7\n",
    "    options.transpilation.initial_layout = initial_layout\n",
    "    options.transpilation.seed_transpiler = 1337\n",
    "\n",
    "    estimator = Estimator(backend, options=options)\n",
    "    job = estimator.run(trotter_circuit_list, obs_list, params_list)\n",
    "    jobs[label_mit][label] = job\n",
    "    print(job.job_id())\n",
    "    jobs_ids[label_mit] = {label: job.job_id() for label, job in jobs[label_mit].items()}"
   ]
  },
  {
   "cell_type": "markdown",
   "id": "eccdc14a-92ab-41eb-a86b-471378aea0d2",
   "metadata": {},
   "source": [
    "#### Gate Twirling"
   ]
  },
  {
   "cell_type": "code",
   "execution_count": null,
   "id": "137d8b0b-217e-410a-867a-15dc8f9d6804",
   "metadata": {
    "tags": []
   },
   "outputs": [],
   "source": [
    "# Label for option configuration\n",
    "label_mit = \"Gate Twirling\"\n",
    "label = \"Real Device\"\n",
    "\n",
    "if label_mit not in jobs:\n",
    "    jobs[label_mit] = {}\n",
    "\n",
    "if run_device_jobs:    \n",
    "    # Configure estimator options\n",
    "    options = Options()\n",
    "    options.resilience_level = 0\n",
    "    options.twirling.gates = True\n",
    "    options.execution.shots = 4 ** 7\n",
    "    options.transpilation.initial_layout = initial_layout\n",
    "    options.transpilation.seed_transpiler = 1337\n",
    "\n",
    "    estimator = Estimator(backend, options=options)\n",
    "    job = estimator.run(trotter_circuit_list, obs_list, params_list)\n",
    "    jobs[label_mit][label] = job\n",
    "    print(job.job_id())\n",
    "    jobs_ids[label_mit] = {label: job.job_id() for label, job in jobs[label_mit].items()}"
   ]
  },
  {
   "cell_type": "markdown",
   "id": "60f2f5b3-fa3b-4419-be46-5b7820d36980",
   "metadata": {},
   "source": [
    "#### TREX"
   ]
  },
  {
   "cell_type": "code",
   "execution_count": null,
   "id": "27f3f620-6f6a-4505-b1fb-333e849d3630",
   "metadata": {
    "tags": []
   },
   "outputs": [],
   "source": [
    "# Label for option configuration\n",
    "label_mit = \"TREX wo Gate Twirling\"\n",
    "label = \"Real Device\"\n",
    "\n",
    "if label_mit not in jobs:\n",
    "    jobs[label_mit] = {}\n",
    "\n",
    "if run_device_jobs:    \n",
    "    # Configure estimator options\n",
    "    options = Options()\n",
    "    options.resilience_level = 1\n",
    "    options.execution.shots = 4 ** 7\n",
    "    options.transpilation.initial_layout = initial_layout\n",
    "    options.transpilation.seed_transpiler = 1337\n",
    "\n",
    "    estimator = Estimator(backend, options=options)\n",
    "    job = estimator.run(trotter_circuit_list, obs_list, params_list)\n",
    "    jobs[label_mit][label] = job\n",
    "    print(job.job_id())\n",
    "    jobs_ids[label_mit] = {label: job.job_id() for label, job in jobs[label_mit].items()}"
   ]
  },
  {
   "cell_type": "markdown",
   "id": "2126fafb-2f69-4692-9f82-348cff523320",
   "metadata": {},
   "source": [
    "#### TREX w/ gate twirling"
   ]
  },
  {
   "cell_type": "code",
   "execution_count": null,
   "id": "3f20e2c7-681d-412a-9759-aa56789c1fd0",
   "metadata": {
    "tags": []
   },
   "outputs": [],
   "source": [
    "# Label for option configuration\n",
    "label_mit = \"TREX w Gate Twirling\"\n",
    "label = \"Real Device\"\n",
    "\n",
    "if label_mit not in jobs:\n",
    "    jobs[label_mit] = {}\n",
    "\n",
    "if run_device_jobs:\n",
    "    # Configure estimator options\n",
    "    options = Options()\n",
    "    options.resilience_level = 1\n",
    "    options.twirling.gates = True\n",
    "    options.execution.shots = 4 ** 7\n",
    "    options.transpilation.initial_layout = initial_layout\n",
    "    options.transpilation.seed_transpiler = 1337\n",
    "\n",
    "    estimator = Estimator(backend, options=options)\n",
    "    job = estimator.run(trotter_circuit_list, obs_list, params_list)\n",
    "    jobs[label_mit][label] = job\n",
    "    print(job.job_id())\n",
    "    jobs_ids[label_mit] = {label: job.job_id() for label, job in jobs[label_mit].items()}"
   ]
  },
  {
   "cell_type": "markdown",
   "id": "e6310984-9888-48aa-9c8b-9cb66cdd72af",
   "metadata": {},
   "source": [
    "#### ZNE w/ trex, w/ gate twirl"
   ]
  },
  {
   "cell_type": "code",
   "execution_count": null,
   "id": "bb3dc7ea-3d9d-4e6d-a0e7-6e4c4c943899",
   "metadata": {
    "tags": []
   },
   "outputs": [],
   "source": [
    "# Label for option configuration\n",
    "label_mit = \"ZNE w TREX, Gate Twirling\"\n",
    "label = \"Real Device\"\n",
    "\n",
    "if label_mit not in jobs:\n",
    "    jobs[label_mit] = {}\n",
    "\n",
    "if run_device_jobs:\n",
    "    # Configure estimator options\n",
    "    options = Options()\n",
    "    options.resilience_level = 2\n",
    "    options.execution.shots = 4 ** 7\n",
    "    options.transpilation.initial_layout = initial_layout\n",
    "    options.transpilation.seed_transpiler = 1337\n",
    "\n",
    "    estimator = Estimator(backend, options=options)\n",
    "    job = estimator.run(trotter_circuit_list, obs_list, params_list)\n",
    "    jobs[label_mit][label] = job\n",
    "    print(job.job_id())\n",
    "    jobs_ids[label_mit] = {label: job.job_id() for label, job in jobs[label_mit].items()}"
   ]
  },
  {
   "cell_type": "markdown",
   "id": "e1bf438c-4836-4a8b-95c9-dbb2d0ce803e",
   "metadata": {},
   "source": [
    "#### ZNE w/ trex, wo/ gate twirl"
   ]
  },
  {
   "cell_type": "code",
   "execution_count": null,
   "id": "dd29f9cf-5b0d-4d35-90f2-d4e647e0989b",
   "metadata": {
    "tags": []
   },
   "outputs": [],
   "source": [
    "# Label for option configuration\n",
    "label_mit = \"ZNE w TREX wo Gate Twirling\"\n",
    "label = \"Real Device\"\n",
    "\n",
    "if label_mit not in jobs:\n",
    "    jobs[label_mit] = {}\n",
    "\n",
    "if run_device_jobs:\n",
    "    # Configure estimator options\n",
    "    options = Options()\n",
    "    options.resilience_level = 2\n",
    "    options.execution.shots = 4 ** 7\n",
    "    options.twirling.gates = False\n",
    "    options.transpilation.initial_layout = initial_layout\n",
    "    options.transpilation.seed_transpiler = 1337\n",
    "\n",
    "    estimator = Estimator(backend, options=options)\n",
    "    job = estimator.run(trotter_circuit_list, obs_list, params_list)\n",
    "    jobs[label_mit][label] = job\n",
    "    print(job.job_id())\n",
    "    jobs_ids[label_mit] = {label: job.job_id() for label, job in jobs[label_mit].items()}"
   ]
  },
  {
   "cell_type": "markdown",
   "id": "02b56ab2-89ae-4dec-a45f-36af049a1f05",
   "metadata": {},
   "source": [
    "#### ZNE wo/ trex, wo/ gate twirl"
   ]
  },
  {
   "cell_type": "code",
   "execution_count": null,
   "id": "1f2269df-495e-4068-a42f-dcd00e5e3cbf",
   "metadata": {
    "tags": []
   },
   "outputs": [],
   "source": [
    "# Label for option configuration\n",
    "label_mit = \"ZNE wo TREX, Gate Twirling\"\n",
    "label = \"Real Device\"\n",
    "\n",
    "if label_mit not in jobs:\n",
    "    jobs[label_mit] = {}\n",
    "\n",
    "if run_device_jobs:\n",
    "    # Configure estimator options\n",
    "    options = Options()\n",
    "    options.resilience_level = 2\n",
    "    options.execution.shots = 4 ** 7\n",
    "    options.twirling.gates = False\n",
    "    options.twirling.measure = False\n",
    "    options.resilience.measure_noise_mitigation = False\n",
    "    options.transpilation.initial_layout = initial_layout\n",
    "    options.transpilation.seed_transpiler = 1337\n",
    "\n",
    "    estimator = Estimator(backend, options=options)\n",
    "    job = estimator.run(trotter_circuit_list, obs_list, params_list)\n",
    "    jobs[label_mit][label] = job\n",
    "    print(job.job_id())\n",
    "    jobs_ids[label_mit] = {label: job.job_id() for label, job in jobs[label_mit].items()}"
   ]
  },
  {
   "cell_type": "markdown",
   "id": "1271acfb-eabb-43c9-b29e-84dfd1f9675a",
   "metadata": {},
   "source": [
    "#### PEC"
   ]
  },
  {
   "cell_type": "code",
   "execution_count": null,
   "id": "e33c2aaa-f1f4-4aad-9e7d-f34b59b095b6",
   "metadata": {
    "tags": []
   },
   "outputs": [],
   "source": [
    "# Label for option configuration\n",
    "label_mit = \"PEC\"\n",
    "label = \"Real Device\"\n",
    "\n",
    "if label_mit not in jobs:\n",
    "    jobs[label_mit] = {}\n",
    "\n",
    "if run_device_jobs:\n",
    "    # Configure estimator options\n",
    "    options = Options()\n",
    "    options.resilience_level = 3\n",
    "    options.execution.shots = 4 ** 7\n",
    "    options.transpilation.initial_layout = initial_layout\n",
    "    options.transpilation.seed_transpiler = 1337\n",
    "\n",
    "    estimator = Estimator(backend, options=options)\n",
    "    job = estimator.run(trotter_circuit_list, obs_list, params_list)\n",
    "    jobs[label_mit][label] = job\n",
    "    print(job.job_id())\n",
    "    jobs_ids[label_mit] = {label: job.job_id() for label, job in jobs[label_mit].items()}"
   ]
  },
  {
   "cell_type": "markdown",
   "id": "2b6a028d-4089-47d2-b0e3-59142d10be44",
   "metadata": {
    "tags": []
   },
   "source": [
    "### Job IDs\n",
    "\n",
    "At this point you should have launched all your simulation and real device jobs through through the Estimator primitives. We print out the job IDs so we have a record of them that we can load once they have finished"
   ]
  },
  {
   "cell_type": "code",
   "execution_count": null,
   "id": "c0aa065b-430b-4a79-b0d8-b9b6cbe54b7a",
   "metadata": {
    "tags": []
   },
   "outputs": [],
   "source": [
    "pprint(jobs_ids)"
   ]
  },
  {
   "cell_type": "markdown",
   "id": "c7a413e1-56bd-4a7c-860b-bab933306945",
   "metadata": {
    "tags": []
   },
   "source": [
    "## Plot Estimator Results\n",
    "\n",
    "After our Estimator jobs have finished running we load and plot the results to explore how effective mitigation was. As a metric we will plot the difference between  the ideal noiseless expectation value and the measured Estimator expectation vale and $\\lange O \\rangel_{ideal} - \\lange O \\rangel_{est}$"
   ]
  },
  {
   "cell_type": "code",
   "execution_count": null,
   "id": "fe3f014f-acbb-43f8-bcb3-ecce476c9812",
   "metadata": {
    "tags": []
   },
   "outputs": [],
   "source": [
    "import numpy as np\n",
    "import matplotlib as mpl\n",
    "import matplotlib.pyplot as plt\n",
    "\n",
    "# Configure MPL for plotting\n",
    "plt.rcParams.update({\"text.usetex\": True})\n",
    "plt.rcParams[\"figure.figsize\"] = (6, 4)\n",
    "mpl.rcParams[\"figure.dpi\"] = 200\n",
    "\n",
    "load_sim_jobs = True\n",
    "load_device_jobs = True"
   ]
  },
  {
   "cell_type": "code",
   "execution_count": null,
   "id": "74800c77-e51e-4430-8033-c95e3c63e20e",
   "metadata": {},
   "outputs": [],
   "source": [
    "from qiskit_ibm_runtime import QiskitRuntimeService\n",
    "\n",
    "# Re-initialize service if note book has been restarted since jobs ran\n",
    "service = QiskitRuntimeService(channel=\"ibm_quantum\", instance=\"ibm-q-internal/deployed/default\")"
   ]
  },
  {
   "cell_type": "markdown",
   "id": "fbc977e2-26a5-444e-a41f-0589843e8174",
   "metadata": {
    "tags": []
   },
   "source": [
    "### Load Results\n",
    "\n",
    "First we load our saved results. Here you should copy paste the dict of job IDs from the previous **Job IDs** section"
   ]
  },
  {
   "cell_type": "code",
   "execution_count": null,
   "id": "f65e51cf-dabd-4144-9f88-a5e2f8851f17",
   "metadata": {},
   "outputs": [],
   "source": [
    "jobs_ids = # Paste job IDs dict here"
   ]
  },
  {
   "cell_type": "code",
   "execution_count": null,
   "id": "09056440-b92d-4a92-8358-ec8cd8adb2f9",
   "metadata": {},
   "outputs": [],
   "source": [
    "# Load jobs from job ids\n",
    "jobs = {}\n",
    "for label_mit, jids in jobs_ids.items():\n",
    "    jobs[label_mit] = {}\n",
    "    for label_noise, jid in jids.items():\n",
    "        if (label_noise == \"Real Device\" and load_device_jobs) or (label_noise != \"Real Device\" and load_sim_jobs):\n",
    "            jobs[label_mit][label_noise] = service.job(jid)\n",
    "\n",
    "# Extract expectation value means and standard errors\n",
    "means_mit = {}\n",
    "stderrs_mit = {}\n",
    "for label_mit, jobs_mit in jobs.items():\n",
    "    means_mit[label_mit] = {}\n",
    "    stderrs_mit[label_mit] = {}\n",
    "    for label_noise, job in jobs_mit.items():\n",
    "        _means = None\n",
    "        _stderrs = None\n",
    "        if job.done():\n",
    "            result = job.result()\n",
    "            _means = np.array(result.values)\n",
    "            _stderrs = np.array([metadata[\"standard_error\"] for metadata in result.metadata])\n",
    "            print(f\"LOADED \\t| {label_mit}\\t| {label_noise}\")\n",
    "        else:\n",
    "            print(f\"{job.status().name}\\t| {label_mit}\\t| {label_noise}\")\n",
    "        means_mit[label_mit][label_noise] = _means\n",
    "        stderrs_mit[label_mit][label_noise] = _stderrs"
   ]
  },
  {
   "cell_type": "markdown",
   "id": "05b046e1-2b97-40af-8305-9583024401ab",
   "metadata": {},
   "source": [
    "### Comparison of noise models for mitigation methods\n",
    "\n",
    "Now that we have loaded our data we plot the difference between the measured expectation values at different numbers of trotter steps vs the ideal values.\n",
    "\n",
    "Each sub plot shows the resulkts of each different noise models for a fixed mitigation configuration"
   ]
  },
  {
   "cell_type": "code",
   "execution_count": null,
   "id": "fefab68b-4150-4b2d-9709-ffd626a81881",
   "metadata": {},
   "outputs": [],
   "source": [
    "# Prefix for saving figures\n",
    "fig_prefix = \"estimator_trotter_6q\"\n",
    "\n",
    "# Organize mitigation method labels for plotting\n",
    "labels_mit = [\n",
    "    'Unmitigated',\n",
    "    'Gate Twirling',\n",
    "    'TREX w Gate Twirling',\n",
    "    'TREX wo Gate Twirling',\n",
    "    'ZNE wo TREX, Gate Twirling',\n",
    "    'ZNE w TREX wo Gate Twirling',\n",
    "    'ZNE w TREX, Gate Twirling',\n",
    "    'PEC',\n",
    "]\n",
    "\n",
    "# Organize noise model labels for plotting\n",
    "labels_noise = [\n",
    "    'Ideal',\n",
    "    'Real Device',\n",
    "    'Measure',\n",
    "    'Depol',\n",
    "    'Depol + Relax',\n",
    "    'Coherent',\n",
    "    'Measure + Depol',\n",
    "    'Measure + Depol + Relax',\n",
    "    'Measure + Coherent',\n",
    "]"
   ]
  },
  {
   "cell_type": "code",
   "execution_count": null,
   "id": "0940d28b-6921-406b-917f-82eb42c617ed",
   "metadata": {
    "tags": []
   },
   "outputs": [],
   "source": [
    "# Generate subplots \n",
    "fig, axs = plt.subplots(3, 3, sharex=True, sharey=True, figsize=(10, 10))\n",
    "\n",
    "# Flatten the array of axes for easy iteration\n",
    "axs = axs.ravel()\n",
    "\n",
    "# Add error bar plots to each subplot\n",
    "for label_noise in labels_noise:\n",
    "    if label_noise == \"Real Device\":\n",
    "        axs[0].plot([5], [0], 's-', c=\"red\", label=label_noise)\n",
    "    elif label_noise == \"Ideal\":\n",
    "        continue\n",
    "    else:\n",
    "        axs[0].plot([5], [0], 'o--', label=label_noise)\n",
    "axs[0].legend()\n",
    "for ax, label_mit in zip(axs[1:], labels_mit):\n",
    "    means = means_mit[label_mit]\n",
    "    stderrs = stderrs_mit[label_mit]\n",
    "    for label_noise in labels_noise:\n",
    "        if label_noise != \"Ideal\" and means[label_noise] is not None and means[\"Ideal\"] is not None:\n",
    "            ys = means[\"Ideal\"] - means[label_noise]\n",
    "            yerrs = stderrs[\"Ideal\"] + stderrs[label_noise]\n",
    "            xs = 1 + np.arange(len(ys))\n",
    "            if label_noise == \"Real Device\":\n",
    "                ax.errorbar(xs, ys, yerrs, fmt = 's-', c=\"red\", capsize=4, label=label_noise)\n",
    "            else:\n",
    "                ax.errorbar(xs, ys, yerrs, fmt = 'o--', capsize=4, label=label_noise)\n",
    "    ax.plot(xs, np.zeros_like(xs), \":\", c=\"black\")\n",
    "    ax.set_title(label_mit)\n",
    "    ax.set_xticks(xs)\n",
    "\n",
    "plt.tight_layout()\n",
    "plt.savefig(f\"{fig_prefix}_mit_vs_noise.pdf\")\n",
    "plt.show()"
   ]
  },
  {
   "cell_type": "markdown",
   "id": "c9e9ee80-6774-4397-b1f9-4e4e9a872121",
   "metadata": {},
   "source": [
    "### Comparison of mitigation methods for different noise models\n",
    "\n",
    "We now plot the same data but organized to show how each mitigation methods performs for a fixed noise model"
   ]
  },
  {
   "cell_type": "code",
   "execution_count": null,
   "id": "0317f892-d95c-4eec-9c46-3f85a4e369fb",
   "metadata": {
    "tags": []
   },
   "outputs": [],
   "source": [
    "# Generate subplots \n",
    "fig, axs = plt.subplots(3, 3, sharex=True, sharey=True, figsize=(10, 10))\n",
    "\n",
    "# Flatten the array of axes for easy iteration\n",
    "axs = axs.ravel()\n",
    "\n",
    "# Add error bar plots to each subplot\n",
    "for ax, label_noise in zip(axs, labels_noise):\n",
    "    for label_mit in labels_mit:\n",
    "        means = means_mit[label_mit]\n",
    "        stderrs = stderrs_mit[label_mit]\n",
    "        if means[label_noise] is not None and means[\"Ideal\"] is not None:\n",
    "            ys = means[\"Ideal\"] - means[label_noise]\n",
    "            yerrs = stderrs[\"Ideal\"] + stderrs[label_noise]\n",
    "            xs = 1 + np.arange(len(ys))\n",
    "            if label_mit == \"Unmitigated\":\n",
    "                ax.errorbar(xs, ys, yerrs, fmt = 's-', capsize=4, label=label_mit)\n",
    "            else:\n",
    "                ax.errorbar(xs, ys, yerrs, fmt = 'o--', capsize=4, label=label_mit)\n",
    "    ax.plot(xs, np.zeros_like(xs), \":\", c=\"black\")\n",
    "    if label_noise == \"Real Device\":\n",
    "        title = label_noise\n",
    "    else:\n",
    "        title = f\"{label_noise} Sim\"\n",
    "    ax.set_title(title)\n",
    "    ax.set_xticks(xs)\n",
    "    if label_noise == \"Ideal\":\n",
    "        ax.legend()\n",
    "plt.tight_layout()\n",
    "plt.savefig(f\"{fig_prefix}_noise_vs_mit.pdf\")\n",
    "plt.show()"
   ]
  }
 ],
 "metadata": {
  "kernelspec": {
   "display_name": "Python [conda env:pec]",
   "language": "python",
   "name": "conda-env-pec-py"
  },
  "language_info": {
   "codemirror_mode": {
    "name": "ipython",
    "version": 3
   },
   "file_extension": ".py",
   "mimetype": "text/x-python",
   "name": "python",
   "nbconvert_exporter": "python",
   "pygments_lexer": "ipython3",
   "version": "3.9.13"
  }
 },
 "nbformat": 4,
 "nbformat_minor": 5
}
